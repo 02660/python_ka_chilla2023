{
 "cells": [
  {
   "attachments": {},
   "cell_type": "markdown",
   "metadata": {},
   "source": [
    "# **Basics of Python **\n",
    "(Python ka chilla 2023 by [Dr. Muhammad Aammar Tufail](https://github.com/AammarTufail))\\\n",
    "This course is in Urdu/Hindi Language designed for the students and professionals to become experts in Data Science/Machine Learnin/Artificial Intelligence\n"
   ]
  },
  {
   "attachments": {},
   "cell_type": "markdown",
   "metadata": {},
   "source": [
    "## 1. Python hy ya calculator?\n",
    "Python ki basic command line aisay hi kaam karti hy jaisay calculator ho. Ap sirf likhtay jayen or woh perform karta jaye ga. Expression straight forward hy `+, -, *, and /` same usi tareeqay se kaam karta hy jaisay doosray software k function htay like MS Excel and other spreadsheet software. Is main paranthesis `(())` ko use kar k ham cheezon ko group b kar saktay hyn.\n",
    "\n",
    "For Example:\n",
    "```python\n",
    ">>> 2 + 3\n",
    "5\n",
    ">>> 2 * 3\n",
    "6\n",
    ">>> 2 / 3\n",
    "0.6666666666666666\n",
    ">>> 2 - 3\n",
    "-1\n",
    ">>> (2 + 3) * 4\n",
    "20\n",
    ">>> 2 + 3 * 4\n",
    "14\n",
    "```\n",
    "\n"
   ]
  },
  {
   "cell_type": "markdown",
   "metadata": {},
   "source": []
  }
 ],
 "metadata": {
  "language_info": {
   "name": "python"
  },
  "orig_nbformat": 4
 },
 "nbformat": 4,
 "nbformat_minor": 2
}
